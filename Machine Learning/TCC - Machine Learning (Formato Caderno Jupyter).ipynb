{
 "cells": [
  {
   "cell_type": "code",
   "execution_count": 31,
   "id": "bbdf1533-1ffa-4fae-8106-22c0bf607cd4",
   "metadata": {},
   "outputs": [],
   "source": [
    "import pandas as pd\n",
    "import numpy as np\n",
    "import seaborn as sns \n",
    "import matplotlib.pyplot as plt"
   ]
  },
  {
   "cell_type": "code",
   "execution_count": 12,
   "id": "69fac4c2-83e5-4c9f-9cf3-e55fcbb4c645",
   "metadata": {},
   "outputs": [],
   "source": [
    "df = pd.read_csv('datatran.csv',sep=';',encoding='utf-8', low_memory=False, index_col = 0)"
   ]
  },
  {
   "cell_type": "code",
   "execution_count": 21,
   "id": "c56bf083-78a0-4a91-bf55-1583e00781fa",
   "metadata": {},
   "outputs": [],
   "source": [
    "df['risco'] = df.d_classificacaoacidente.apply(lambda x: 1 if x in ['Com Vítimas Feridas', 'Com Vítimas Fatais'] else 0)"
   ]
  },
  {
   "cell_type": "code",
   "execution_count": 19,
   "id": "51904095-f839-48cb-bd8c-ac8d6048290f",
   "metadata": {},
   "outputs": [],
   "source": [
    "y = df['risco']"
   ]
  },
  {
   "cell_type": "code",
   "execution_count": 20,
   "id": "a9a904f0-ae5f-46b4-8477-93b70a0f07fb",
   "metadata": {},
   "outputs": [],
   "source": [
    "X_cols = ['d_br', 'd_km', 'd_fasedia', 'd_diasemana', 'd_condicaometereologica']\n",
    "X = df[X_cols]"
   ]
  },
  {
   "cell_type": "code",
   "execution_count": 22,
   "id": "e5e19def-1b1e-423f-8ce0-8901c447393b",
   "metadata": {},
   "outputs": [],
   "source": [
    "filtro = X.d_br.value_counts()>99\n",
    "BR = filtro[filtro]\n",
    "X = X[X.d_br.isin(BR.index)]"
   ]
  },
  {
   "cell_type": "code",
   "execution_count": 23,
   "id": "87d1ec11-6b85-4cc1-a81f-58475d5dc607",
   "metadata": {},
   "outputs": [],
   "source": [
    "X['br']=X.d_br.astype(int)\n",
    "X['br']=X.d_br.astype(str)"
   ]
  },
  {
   "cell_type": "code",
   "execution_count": 24,
   "id": "f60dfb5d-3c29-4814-a262-c48fc6aa4dad",
   "metadata": {},
   "outputs": [],
   "source": [
    "cols = ['d_br', 'd_km', 'd_fasedia', 'd_diasemana', 'd_condicaometereologica']\n",
    "X_pronto = pd.get_dummies(X[cols])"
   ]
  },
  {
   "cell_type": "code",
   "execution_count": 25,
   "id": "560596e1-dadf-47f5-ae6d-bfdd48cdd41d",
   "metadata": {},
   "outputs": [],
   "source": [
    "y = y[X_pronto.index]"
   ]
  },
  {
   "cell_type": "code",
   "execution_count": 33,
   "id": "ba15ca4b-6688-466f-b378-7d5dea69ecb0",
   "metadata": {},
   "outputs": [],
   "source": [
    "from sklearn.model_selection import train_test_split\n",
    "\n",
    "X_train, X_test, y_train, y_test = train_test_split(X_pronto, y, random_state=42, test_size=0.30)"
   ]
  },
  {
   "cell_type": "code",
   "execution_count": 34,
   "id": "3c611f07-1aa4-4c04-8b95-0b052795a900",
   "metadata": {},
   "outputs": [],
   "source": [
    "from sklearn.neighbors import KNeighborsClassifier"
   ]
  },
  {
   "cell_type": "code",
   "execution_count": 35,
   "id": "6d00197e-9d20-4531-9d2d-2ae9545b2b9b",
   "metadata": {},
   "outputs": [],
   "source": [
    "knn = KNeighborsClassifier()"
   ]
  },
  {
   "cell_type": "code",
   "execution_count": 36,
   "id": "d67e04b3-6c20-4cd8-9395-ffc730cedd3d",
   "metadata": {},
   "outputs": [
    {
     "data": {
      "text/plain": [
       "KNeighborsClassifier()"
      ]
     },
     "execution_count": 36,
     "metadata": {},
     "output_type": "execute_result"
    }
   ],
   "source": [
    "knn.fit(X_train, y_train)"
   ]
  },
  {
   "cell_type": "code",
   "execution_count": 40,
   "id": "7d36ddae-406b-4dac-b425-92f92674a51e",
   "metadata": {},
   "outputs": [],
   "source": [
    "from sklearn.linear_model import LogisticRegression"
   ]
  },
  {
   "cell_type": "code",
   "execution_count": 62,
   "id": "5eb4f842-c60c-4dab-8327-dcdf61126a93",
   "metadata": {},
   "outputs": [],
   "source": [
    "lr = LogisticRegression()"
   ]
  },
  {
   "cell_type": "code",
   "execution_count": 63,
   "id": "f443d275-004c-485e-9bda-fb1dd5bfd979",
   "metadata": {},
   "outputs": [
    {
     "name": "stderr",
     "output_type": "stream",
     "text": [
      "C:\\Users\\Micro\\AppData\\Local\\Programs\\Python\\Python310\\lib\\site-packages\\sklearn\\linear_model\\_logistic.py:814: ConvergenceWarning: lbfgs failed to converge (status=1):\n",
      "STOP: TOTAL NO. of ITERATIONS REACHED LIMIT.\n",
      "\n",
      "Increase the number of iterations (max_iter) or scale the data as shown in:\n",
      "    https://scikit-learn.org/stable/modules/preprocessing.html\n",
      "Please also refer to the documentation for alternative solver options:\n",
      "    https://scikit-learn.org/stable/modules/linear_model.html#logistic-regression\n",
      "  n_iter_i = _check_optimize_result(\n"
     ]
    },
    {
     "data": {
      "text/plain": [
       "LogisticRegression()"
      ]
     },
     "execution_count": 63,
     "metadata": {},
     "output_type": "execute_result"
    }
   ],
   "source": [
    "lr.fit(X_train, y_train)"
   ]
  },
  {
   "cell_type": "code",
   "execution_count": 64,
   "id": "ce4681c4-f477-4834-b96e-52b39e034ea6",
   "metadata": {},
   "outputs": [],
   "source": [
    "y_preds = lr.predict(X_test)"
   ]
  },
  {
   "cell_type": "code",
   "execution_count": 67,
   "id": "acfb6819-cdb5-4d29-960e-4adfab4c56e5",
   "metadata": {},
   "outputs": [],
   "source": [
    "from sklearn.metrics import roc_auc_score"
   ]
  },
  {
   "cell_type": "code",
   "execution_count": 68,
   "id": "6f832143-3ca6-41ac-a921-a45e75fe3680",
   "metadata": {},
   "outputs": [],
   "source": [
    "y_preds=lr.predict_proba(X_test)"
   ]
  },
  {
   "cell_type": "code",
   "execution_count": 69,
   "id": "a1376c79-a428-41d9-befb-b65914298b3d",
   "metadata": {},
   "outputs": [],
   "source": [
    "y_preds=y_preds[:, 1]"
   ]
  },
  {
   "cell_type": "code",
   "execution_count": 70,
   "id": "5edbd735-a7f4-4b2c-afa9-91f1c2115086",
   "metadata": {},
   "outputs": [
    {
     "name": "stdout",
     "output_type": "stream",
     "text": [
      "0.5522569562348056\n"
     ]
    }
   ],
   "source": [
    "roc_lr = roc_auc_score(y_test.values, y_preds)\n",
    "print(roc_lr)"
   ]
  },
  {
   "cell_type": "code",
   "execution_count": 71,
   "id": "7bacc15b-85c8-425b-abf9-8c80bae6ccc2",
   "metadata": {},
   "outputs": [],
   "source": [
    "from sklearn.metrics import confusion_matrix"
   ]
  },
  {
   "cell_type": "code",
   "execution_count": 72,
   "id": "590b5563-d5b1-436d-833a-fd4482672dcf",
   "metadata": {},
   "outputs": [],
   "source": [
    "y_preds = lr.predict(X_test)"
   ]
  },
  {
   "cell_type": "code",
   "execution_count": 73,
   "id": "3ae3a38b-5705-4ab1-bdfe-721cf8c59cb9",
   "metadata": {},
   "outputs": [],
   "source": [
    "cm_lr = confusion_matrix(y_test.values, y_preds)"
   ]
  },
  {
   "cell_type": "code",
   "execution_count": 84,
   "id": "59e5a258-dbf9-49ae-8944-e4b206653635",
   "metadata": {},
   "outputs": [
    {
     "data": {
      "text/plain": [
       "Text(33.0, 0.5, 'Ocorrido')"
      ]
     },
     "execution_count": 84,
     "metadata": {},
     "output_type": "execute_result"
    },
    {
     "data": {
      "image/png": "[encoded data removed]",
      "text/plain": [
       "<Figure size 432x288 with 2 Axes>"
      ]
     },
     "metadata": {
      "needs_background": "light"
     },
     "output_type": "display_data"
    }
   ],
   "source": [
    "sns.heatmap(cm_lr, annot=True, fmt='d')\n",
    "plt.xlabel('Previsão')\n",
    "plt.ylabel('Ocorrido')"
   ]
  },
  {
   "cell_type": "code",
   "execution_count": 75,
   "id": "b63472e0-23f4-4238-afc2-e8948a569f05",
   "metadata": {},
   "outputs": [],
   "source": [
    "from sklearn.neighbors import KNeighborsClassifier"
   ]
  },
  {
   "cell_type": "code",
   "execution_count": 85,
   "id": "50e4f693-c051-4de4-a756-501cf01e8d5b",
   "metadata": {},
   "outputs": [],
   "source": [
    "knn = KNeighborsClassifier()"
   ]
  },
  {
   "cell_type": "code",
   "execution_count": 86,
   "id": "205e9254-a9e8-426c-b7ce-d695a2155faa",
   "metadata": {},
   "outputs": [
    {
     "data": {
      "text/plain": [
       "KNeighborsClassifier()"
      ]
     },
     "execution_count": 86,
     "metadata": {},
     "output_type": "execute_result"
    }
   ],
   "source": [
    "knn.fit(X_train, y_train)"
   ]
  },
  {
   "cell_type": "code",
   "execution_count": 87,
   "id": "8341ca59-6af5-47ab-9e72-8f8a18b832ac",
   "metadata": {},
   "outputs": [
    {
     "name": "stdout",
     "output_type": "stream",
     "text": [
      "0.5201999413380564\n"
     ]
    }
   ],
   "source": [
    "y_preds=knn.predict_proba(X_test)\n",
    "y_preds=y_preds[:, 1]\n",
    "roc_knn = roc_auc_score(y_test.values, y_preds)\n",
    "print(roc_knn)"
   ]
  },
  {
   "cell_type": "code",
   "execution_count": 88,
   "id": "3946a4f2-4079-4b41-a2a5-49a723f635dc",
   "metadata": {},
   "outputs": [],
   "source": [
    "y_preds=knn.predict(X_test)\n",
    "cm_knn = confusion_matrix(y_test.values, y_preds)"
   ]
  },
  {
   "cell_type": "code",
   "execution_count": 90,
   "id": "e31913b6-1622-4e7a-b0c6-347ab1f0161c",
   "metadata": {},
   "outputs": [
    {
     "data": {
      "text/plain": [
       "Text(33.0, 0.5, 'Ocorrido')"
      ]
     },
     "execution_count": 90,
     "metadata": {},
     "output_type": "execute_result"
    },
    {
     "data": {
      "image/png": "[encoded data removed]",
      "text/plain": [
       "<Figure size 432x288 with 2 Axes>"
      ]
     },
     "metadata": {
      "needs_background": "light"
     },
     "output_type": "display_data"
    }
   ],
   "source": [
    "sns.heatmap(cm_knn, annot=True, fmt='d')\n",
    "plt.xlabel('Previsão')\n",
    "plt.ylabel('Ocorrido')"
   ]
  },
  {
   "cell_type": "code",
   "execution_count": 91,
   "id": "ec7a7098-6d50-4e47-9c05-36ee5ff8a67a",
   "metadata": {},
   "outputs": [],
   "source": [
    "from sklearn.tree import DecisionTreeClassifier"
   ]
  },
  {
   "cell_type": "code",
   "execution_count": 92,
   "id": "170452b2-6b07-4e8d-a83d-cad5349f6ce7",
   "metadata": {},
   "outputs": [],
   "source": [
    "dtc = DecisionTreeClassifier()"
   ]
  },
  {
   "cell_type": "code",
   "execution_count": 93,
   "id": "b413065b-54bc-4d2e-8ee9-6595d976c2f6",
   "metadata": {},
   "outputs": [
    {
     "data": {
      "text/plain": [
       "DecisionTreeClassifier()"
      ]
     },
     "execution_count": 93,
     "metadata": {},
     "output_type": "execute_result"
    }
   ],
   "source": [
    "dtc.fit(X_train,y_train)"
   ]
  },
  {
   "cell_type": "code",
   "execution_count": 94,
   "id": "3f5d111a-9c8c-4258-ade6-bfbf3429c545",
   "metadata": {},
   "outputs": [
    {
     "name": "stdout",
     "output_type": "stream",
     "text": [
      "0.5108601899744482\n"
     ]
    }
   ],
   "source": [
    "y_preds=dtc.predict_proba(X_test)\n",
    "y_preds=y_preds[:, 1]\n",
    "roc_dtc = roc_auc_score(y_test.values, y_preds)\n",
    "print(roc_dtc)"
   ]
  },
  {
   "cell_type": "code",
   "execution_count": 95,
   "id": "5829edbe-3191-4af6-b2b2-dad07c2e8175",
   "metadata": {},
   "outputs": [],
   "source": [
    "y_preds=dtc.predict(X_test)\n",
    "cm_dtc = confusion_matrix(y_test.values, y_preds)"
   ]
  },
  {
   "cell_type": "code",
   "execution_count": 96,
   "id": "7c8687a9-3633-487e-881b-4f6e568d845f",
   "metadata": {},
   "outputs": [
    {
     "data": {
      "text/plain": [
       "Text(33.0, 0.5, 'Ocorrido')"
      ]
     },
     "execution_count": 96,
     "metadata": {},
     "output_type": "execute_result"
    },
    {
     "data": {
      "image/png": "[encoded data removed]",
      "text/plain": [
       "<Figure size 432x288 with 2 Axes>"
      ]
     },
     "metadata": {
      "needs_background": "light"
     },
     "output_type": "display_data"
    }
   ],
   "source": [
    "sns.heatmap(cm_dtc, annot=True, fmt='d')\n",
    "plt.xlabel('Previsão')\n",
    "plt.ylabel('Ocorrido')"
   ]
  },
  {
   "cell_type": "code",
   "execution_count": 97,
   "id": "2d59c296-dffd-45ac-850e-b0c0891fe5ff",
   "metadata": {},
   "outputs": [],
   "source": [
    "from sklearn.ensemble import GradientBoostingClassifier"
   ]
  },
  {
   "cell_type": "code",
   "execution_count": 98,
   "id": "a0cdcdf8-c661-4151-b9f0-6725cf8e3bf9",
   "metadata": {},
   "outputs": [],
   "source": [
    "gb = GradientBoostingClassifier()"
   ]
  },
  {
   "cell_type": "code",
   "execution_count": 99,
   "id": "312b0097-ad7b-4c67-8704-3e0418161a99",
   "metadata": {},
   "outputs": [
    {
     "data": {
      "text/plain": [
       "GradientBoostingClassifier()"
      ]
     },
     "execution_count": 99,
     "metadata": {},
     "output_type": "execute_result"
    }
   ],
   "source": [
    "gb.fit(X_train, y_train)"
   ]
  },
  {
   "cell_type": "code",
   "execution_count": 100,
   "id": "e2485164-472c-444d-8d80-edf512504644",
   "metadata": {},
   "outputs": [
    {
     "name": "stdout",
     "output_type": "stream",
     "text": [
      "0.5577306909136034\n"
     ]
    }
   ],
   "source": [
    "y_preds=gb.predict_proba(X_test)\n",
    "y_preds=y_preds[:, 1]\n",
    "roc_gb = roc_auc_score(y_test.values, y_preds)\n",
    "print(roc_gb)"
   ]
  },
  {
   "cell_type": "code",
   "execution_count": 101,
   "id": "3c32e2aa-3c71-4ef9-b5ad-b01d2fbb1448",
   "metadata": {},
   "outputs": [],
   "source": [
    "y_preds=gb.predict(X_test)\n",
    "cm_gb = confusion_matrix(y_test.values, y_preds)"
   ]
  },
  {
   "cell_type": "code",
   "execution_count": null,
   "id": "4fcb68b2-42dc-4f9c-8489-b827ca35ed24",
   "metadata": {},
   "outputs": [
    {
     "data": {
      "text/plain": [
       "Text(33.0, 0.5, 'Ocorrido')"
      ]
     },
     "execution_count": 102,
     "metadata": {},
     "output_type": "execute_result"
    },
    {
     "data": {
      "image/png": "[encoded data removed]",
      "text/plain": [
       "<Figure size 432x288 with 2 Axes>"
      ]
     },
     "metadata": {
      "needs_background": "light"
     },
     "output_type": "display_data"
    }
   ],
   "source": [
    "sns.heatmap(cm_gb, annot=True, fmt='d')\n",
    "plt.xlabel('Previsão')\n",
    "plt.ylabel('Ocorrido')"
   ]
  },
  {
   "cell_type": "code",
   "execution_count": 134,
   "id": "8af1159d-35b3-45eb-90ab-29f90c034822",
   "metadata": {},
   "outputs": [
    {
     "name": "stdout",
     "output_type": "stream",
     "text": [
      "0.5522569562348056 0.5201999413380564 0.5108601899744482 0.5577306909136034 0.5250403413673873\n"
     ]
    }
   ],
   "source": [
    "print(roc_lr, roc_knn, roc_dtc, roc_gb, roc_rf)"
   ]
  },
  {
   "cell_type": "code",
   "execution_count": 124,
   "id": "1758cb81-d7d7-4e67-9050-a909f988490a",
   "metadata": {},
   "outputs": [],
   "source": [
    "from sklearn.ensemble import RandomForestClassifier"
   ]
  },
  {
   "cell_type": "code",
   "execution_count": 125,
   "id": "b8c8c291-9ac5-4d0f-9e31-6ec458f06e03",
   "metadata": {},
   "outputs": [],
   "source": [
    "rf = RandomForestClassifier()"
   ]
  },
  {
   "cell_type": "code",
   "execution_count": 126,
   "id": "4565142a-14dd-443d-8efd-9338999cd73b",
   "metadata": {},
   "outputs": [
    {
     "data": {
      "text/plain": [
       "RandomForestClassifier()"
      ]
     },
     "execution_count": 126,
     "metadata": {},
     "output_type": "execute_result"
    }
   ],
   "source": [
    "rf.fit(X_train, y_train)"
   ]
  },
  {
   "cell_type": "code",
   "execution_count": 127,
   "id": "63d4d595-dbf8-4f92-b20b-24df9fa8b870",
   "metadata": {},
   "outputs": [],
   "source": [
    "y_preds=rf.predict_proba(X_test)"
   ]
  },
  {
   "cell_type": "code",
   "execution_count": 128,
   "id": "aec71021-503c-4671-ac5d-01c7c42c8386",
   "metadata": {},
   "outputs": [],
   "source": [
    "y_preds=y_preds[:, 1]"
   ]
  },
  {
   "cell_type": "code",
   "execution_count": 129,
   "id": "4ddd053b-9748-46ec-8a18-5571deee1bd0",
   "metadata": {},
   "outputs": [
    {
     "name": "stdout",
     "output_type": "stream",
     "text": [
      "0.5250403413673873\n"
     ]
    }
   ],
   "source": [
    "roc_rf = roc_auc_score(y_test.values, y_preds)\n",
    "print(roc_rf)"
   ]
  },
  {
   "cell_type": "code",
   "execution_count": 130,
   "id": "64dbd2f3-6494-4177-84e5-736725ba5841",
   "metadata": {},
   "outputs": [],
   "source": [
    "y_preds=rf.predict(X_test)"
   ]
  },
  {
   "cell_type": "code",
   "execution_count": 131,
   "id": "97fb0735-507e-4290-bb12-e215337034fb",
   "metadata": {},
   "outputs": [
    {
     "data": {
      "text/plain": [
       "Text(33.0, 0.5, 'Ocorrido')"
      ]
     },
     "execution_count": 131,
     "metadata": {},
     "output_type": "execute_result"
    },
    {
     "data": {
      "image/png": "[encoded data removed]",
      "text/plain": [
       "<Figure size 432x288 with 2 Axes>"
      ]
     },
     "metadata": {
      "needs_background": "light"
     },
     "output_type": "display_data"
    }
   ],
   "source": [
    "cm_rf = confusion_matrix(y_test.values, y_preds)\n",
    "sns.heatmap(cm_rf, annot=True, fmt='g')\n",
    "plt.xlabel('Previsão')\n",
    "plt.ylabel('Ocorrido')"
   ]
  },
  {
   "cell_type": "code",
   "execution_count": 133,
   "id": "1ebdcb0b-e39a-4401-b825-de9f678f765c",
   "metadata": {},
   "outputs": [],
   "source": [
    "result = {\n",
    "    \"Regressão Logistica\": (roc_lr *100),\n",
    "    \"KNN\": (roc_knn *100),\n",
    "    \"Decision Tree\": (roc_dtc *100),\n",
    "    \"Gradient Boosting\": (roc_gb *100),\n",
    "    \"Random Forest\": (roc_rf *100)\n",
    "}"
   ]
  },
  {
   "cell_type": "code",
   "execution_count": 135,
   "id": "69bced92-1b39-41c1-9595-4fcdb15776ee",
   "metadata": {},
   "outputs": [
    {
     "data": {
      "image/png": "[encoded data removed]",
      "text/plain": [
       "<Figure size 432x288 with 1 Axes>"
      ]
     },
     "metadata": {
      "needs_background": "light"
     },
     "output_type": "display_data"
    }
   ],
   "source": [
    "import matplotlib.pyplot as plt\n",
    "sns.set_palette(\"Set2\",5, .95)\n",
    "\n",
    "plt.barh(*zip(*result.items()))\n",
    "plt.show()"
   ]
  },
  {
   "cell_type": "code",
   "execution_count": null,
   "id": "e644a807-4e6b-4e41-993f-e5a4a5164c8a",
   "metadata": {},
   "outputs": [],
   "source": []
  }
 ],
 "metadata": {
  "kernelspec": {
   "display_name": "Python 3 (ipykernel)",
   "language": "python",
   "name": "python3"
  },
  "language_info": {
   "codemirror_mode": {
    "name": "ipython",
    "version": 3
   },
   "file_extension": ".py",
   "mimetype": "text/x-python",
   "name": "python",
   "nbconvert_exporter": "python",
   "pygments_lexer": "ipython3",
   "version": "3.10.0"
  }
 },
 "nbformat": 4,
 "nbformat_minor": 5
}
